{
  "nbformat": 4,
  "nbformat_minor": 0,
  "metadata": {
    "colab": {
      "provenance": [],
      "mount_file_id": "1bM1apUwT40QNm4bo63RKf6B9jYO7i0NL",
      "authorship_tag": "ABX9TyM95/UmBOYSYir3lF0W9HKF",
      "include_colab_link": true
    },
    "kernelspec": {
      "name": "python3",
      "display_name": "Python 3"
    },
    "language_info": {
      "name": "python"
    }
  },
  "cells": [
    {
      "cell_type": "markdown",
      "metadata": {
        "id": "view-in-github",
        "colab_type": "text"
      },
      "source": [
        "<a href=\"https://colab.research.google.com/github/Cervantes-Echeverria/clase_programacion_0923/blob/main/Project_text.ipynb\" target=\"_parent\"><img src=\"https://colab.research.google.com/assets/colab-badge.svg\" alt=\"Open In Colab\"/></a>"
      ]
    },
    {
      "cell_type": "markdown",
      "source": [
        "# PROYECTO TEXTO"
      ],
      "metadata": {
        "id": "3CF-5JUxK3dH"
      }
    },
    {
      "cell_type": "markdown",
      "source": [
        "1. Abre una cuenta en GitHub\n",
        "2. Crea un proyecto\n",
        "3. En el proyecto, sube un archivo.txt que contenga un texto.\n",
        "4. Realiza un programa que despliegue en pantalla un menú para el usuario con las siguientes funciones:\n",
        "\n",
        "  a. Top 5 de palabras más comunes. (Crea una lista para eliminar las palabras más comunes: 'la', 'no', 'los', 'el', 'y', 'que', 'de', 'es').  \n",
        "  b. Top 5 de palabras menos comunes.\n",
        "  \n",
        "  c. Muestra un histograma (gráfico de frecuencias) de las 5 palabras que más comunes.\n",
        "  \n",
        "  d. Salir del programa."
      ],
      "metadata": {
        "id": "QzkiMWyWJyZj"
      }
    },
    {
      "cell_type": "markdown",
      "source": [
        "### Abrir leer el archivo. Guardar el texto en la variable \"word\" con el método .extend , guardar cada palabra como cadena tomando en cuenta los espacios con el método .split\n",
        "\n",
        "```\n",
        "# Esto tiene formato de código`\n",
        "```\n",
        "\n"
      ],
      "metadata": {
        "id": "BWDLxAwyKjca"
      }
    },
    {
      "cell_type": "code",
      "source": [
        "words = []\n",
        "with open(\"/content/drive/MyDrive/classroom_projects/project_text/Enquiridion.txt\", \"r\", encoding='UTF-8') as f:\n",
        "    for line in f:\n",
        "        words.extend(line.split())\n",
        "    print(words)"
      ],
      "metadata": {
        "colab": {
          "base_uri": "https://localhost:8080/"
        },
        "id": "wvMBnKjgJ9X8",
        "outputId": "3c989bc7-5276-4d1d-d784-3462a22489ff"
      },
      "execution_count": null,
      "outputs": [
        {
          "output_type": "stream",
          "name": "stdout",
          "text": [
            "['Hay', 'cosas', 'que', 'están', 'dentro', 'de', 'nuestro', 'poder,', 'y', 'hay', 'cosas', 'que', 'están', 'más', 'allá', 'de', 'nuestro', 'poder.', 'Dentro', 'de', 'nuestro', 'poder', 'están', 'la', 'opinión,', 'el', 'objetivo,', 'el', 'deseo,', 'la', 'aversión', 'y,', 'en', 'una', 'palabra,', 'cualquier', 'asunto', 'que', 'nos', 'pertenezca.', 'Fuera', 'de', 'nuestro', 'poder', 'están', 'el', 'cuerpo,', 'la', 'propiedad,', 'la', 'reputación,', 'el', 'cargo', 'y,', 'en', 'una', 'palabra,', 'todo', 'lo', 'que', 'no', 'es', 'propiamente', 'nuestro.', 'Ahora', 'bien,', 'las', 'cosas', 'que', 'están', 'dentro', 'de', 'nuestro', 'poder', 'son', 'por', 'naturaleza', 'libres,', 'irrestrictas,', 'sin', 'obstáculos;', 'pero', 'las', 'que', 'están', 'más', 'allá', 'de', 'nuestro', 'poder', 'son', 'débiles,', 'dependientes,', 'restringidas,', 'ajenas.', 'Recuerda,', 'pues,', 'que', 'si', 'atribuyes', 'libertad', 'a', 'las', 'cosas', 'por', 'naturaleza', 'dependientes', 'y', 'tomas', 'para', 'ti', 'lo', 'que', 'es', 'de', 'los', 'demás,', 'te', 'verás', 'obstaculizado,', 'te', 'lamentarás,', 'te', 'molestarás,', 'encontrarás', 'faltas', 'tanto', 'con', 'los', 'dioses', 'como', 'con', 'los', 'hombres.', 'Pero', 'si', 'tomas', 'por', 'tuyo', 'sólo', 'lo', 'que', 'es', 'tuyo', 'y', 'ves', 'lo', 'que', 'es', 'de', 'los', 'demás', 'tal', 'como', 'es', 'en', 'realidad,', 'entonces', 'nadie', 'te', 'obligará,', 'nadie', 'te', 'restringirá;', 'no', 'encontrarás', 'faltas', 'con', 'nadie,', 'no', 'acusarás', 'a', 'nadie,', 'no', 'harás', 'nada', 'en', 'contra', 'de', 'tu', 'voluntad;', 'nadie', 'te', 'hará', 'daño,', 'no', 'tendrás', 'un', 'enemigo,', 'ni', 'sufrirás', 'ningún', 'daño.', 'Apuntando,', 'por', 'lo', 'tanto,', 'a', 'estas', 'grandes', 'cosas,', 'recuerda', 'que', 'no', 'debes', 'permitirte', 'ninguna', 'inclinación,', 'por', 'mínima', 'que', 'sea,', 'hacia', 'la', 'consecución', 'de', 'las', 'otras;', 'sino', 'que', 'debes', 'renunciar', 'por', 'completo', 'a', 'algunas', 'de', 'ellas,', 'y', 'por', 'el', 'momento', 'posponer', 'las', 'demás.', 'Pero', 'si', 'quieres', 'tener', 'estos,', 'y', 'poseer', 'igualmente', 'el', 'poder', 'y', 'la', 'riqueza,', 'puedes', 'perder', 'estos', 'últimos', 'en', 'la', 'búsqueda', 'de', 'los', 'primeros;', 'y', 'ciertamente', 'fracasarás', 'en', 'aquello', 'por', 'lo', 'que', 'sólo', 'se', 'consiguen', 'la', 'felicidad', 'y', 'la', 'libertad.', 'Procura,', 'por', 'tanto,', 'ser', 'capaz', 'de', 'decir', 'a', 'toda', 'apariencia', 'desagradable:', 'No', 'eres', 'más', 'que', 'una', 'apariencia', 'y', 'de', 'ningún', 'modo', 'la', 'cosa', 'real.', 'Y', 'luego', 'examínala', 'según', 'esas', 'reglas', 'que', 'tienes;', 'y', 'primero', 'y', 'principalmente', 'por', 'esto:', 'si', 'se', 'refiere', 'a', 'las', 'cosas', 'que', 'están', 'dentro', 'de', 'nuestro', 'propio', 'poder', 'o', 'a', 'las', 'que', 'no', 'lo', 'están;', 'y', 'si', 'se', 'refiere', 'a', 'algo', 'que', 'está', 'más', 'allá', 'de', 'nuestro', 'poder,', 'prepárate', 'para', 'decir', 'que', 'no', 'es', 'nada', 'para', 'ti.']\n"
          ]
        }
      ]
    },
    {
      "cell_type": "markdown",
      "source": [
        "#Eliminar los artículo, conjunciones, etc. más comunes ( 'la', 'no', 'los', 'el', 'y', 'que', 'de', 'es')"
      ],
      "metadata": {
        "id": "zTCqygfsffeo"
      }
    },
    {
      "cell_type": "code",
      "source": [
        "remove = ['la', 'no', 'los', 'el', 'y', 'que', 'de', 'es', 'a']\n",
        "words = [i for i in words\n",
        "    if i not in remove]\n",
        "\n",
        "print(words)\n",
        "print(tmp)"
      ],
      "metadata": {
        "colab": {
          "base_uri": "https://localhost:8080/"
        },
        "id": "ff6bM5ZngMw2",
        "outputId": "288bab9d-0687-4aaa-87dd-355cf816432b"
      },
      "execution_count": null,
      "outputs": [
        {
          "output_type": "stream",
          "name": "stdout",
          "text": [
            "['Hay', 'cosas', 'están', 'dentro', 'nuestro', 'poder,', 'hay', 'cosas', 'están', 'más', 'allá', 'nuestro', 'poder.', 'Dentro', 'nuestro', 'poder', 'están', 'opinión,', 'objetivo,', 'deseo,', 'aversión', 'y,', 'en', 'una', 'palabra,', 'cualquier', 'asunto', 'nos', 'pertenezca.', 'Fuera', 'nuestro', 'poder', 'están', 'cuerpo,', 'propiedad,', 'reputación,', 'cargo', 'y,', 'en', 'una', 'palabra,', 'todo', 'lo', 'propiamente', 'nuestro.', 'Ahora', 'bien,', 'las', 'cosas', 'están', 'dentro', 'nuestro', 'poder', 'son', 'por', 'naturaleza', 'libres,', 'irrestrictas,', 'sin', 'obstáculos;', 'pero', 'las', 'están', 'más', 'allá', 'nuestro', 'poder', 'son', 'débiles,', 'dependientes,', 'restringidas,', 'ajenas.', 'Recuerda,', 'pues,', 'si', 'atribuyes', 'libertad', 'las', 'cosas', 'por', 'naturaleza', 'dependientes', 'tomas', 'para', 'ti', 'lo', 'demás,', 'te', 'verás', 'obstaculizado,', 'te', 'lamentarás,', 'te', 'molestarás,', 'encontrarás', 'faltas', 'tanto', 'con', 'dioses', 'como', 'con', 'hombres.', 'Pero', 'si', 'tomas', 'por', 'tuyo', 'sólo', 'lo', 'tuyo', 'ves', 'lo', 'demás', 'tal', 'como', 'en', 'realidad,', 'entonces', 'nadie', 'te', 'obligará,', 'nadie', 'te', 'restringirá;', 'encontrarás', 'faltas', 'con', 'nadie,', 'acusarás', 'nadie,', 'harás', 'nada', 'en', 'contra', 'tu', 'voluntad;', 'nadie', 'te', 'hará', 'daño,', 'tendrás', 'un', 'enemigo,', 'ni', 'sufrirás', 'ningún', 'daño.', 'Apuntando,', 'por', 'lo', 'tanto,', 'estas', 'grandes', 'cosas,', 'recuerda', 'debes', 'permitirte', 'ninguna', 'inclinación,', 'por', 'mínima', 'sea,', 'hacia', 'consecución', 'las', 'otras;', 'sino', 'debes', 'renunciar', 'por', 'completo', 'algunas', 'ellas,', 'por', 'momento', 'posponer', 'las', 'demás.', 'Pero', 'si', 'quieres', 'tener', 'estos,', 'poseer', 'igualmente', 'poder', 'riqueza,', 'puedes', 'perder', 'estos', 'últimos', 'en', 'búsqueda', 'primeros;', 'ciertamente', 'fracasarás', 'en', 'aquello', 'por', 'lo', 'sólo', 'se', 'consiguen', 'felicidad', 'libertad.', 'Procura,', 'por', 'tanto,', 'ser', 'capaz', 'decir', 'toda', 'apariencia', 'desagradable:', 'No', 'eres', 'más', 'una', 'apariencia', 'ningún', 'modo', 'cosa', 'real.', 'Y', 'luego', 'examínala', 'según', 'esas', 'reglas', 'tienes;', 'primero', 'principalmente', 'por', 'esto:', 'si', 'se', 'refiere', 'las', 'cosas', 'están', 'dentro', 'nuestro', 'propio', 'poder', 'o', 'las', 'lo', 'están;', 'si', 'se', 'refiere', 'algo', 'está', 'más', 'allá', 'nuestro', 'poder,', 'prepárate', 'para', 'decir', 'nada', 'para', 'ti.']\n",
            "\n"
          ]
        }
      ]
    },
    {
      "cell_type": "markdown",
      "source": [
        "#Contar las palabras más comunes"
      ],
      "metadata": {
        "id": "qg9bpqbftsTP"
      }
    },
    {
      "cell_type": "code",
      "source": [
        "from collections import Counter\n",
        "conteo = Counter(words)\n",
        "print(conteo.most_common(5))\n",
        "\n"
      ],
      "metadata": {
        "colab": {
          "base_uri": "https://localhost:8080/"
        },
        "id": "3JO7braItrhf",
        "outputId": "f323d393-4d20-4441-9e67-1a9b07286f4c"
      },
      "execution_count": null,
      "outputs": [
        {
          "output_type": "stream",
          "name": "stdout",
          "text": [
            "[('por', 10), ('nuestro', 8), ('están', 7), ('lo', 7), ('las', 7)]\n"
          ]
        }
      ]
    },
    {
      "cell_type": "markdown",
      "source": [
        "#Contar palabras menos comunes"
      ],
      "metadata": {
        "id": "9rRiW-m16hyU"
      }
    },
    {
      "cell_type": "markdown",
      "source": [
        "#Histograma"
      ],
      "metadata": {
        "id": "qb2nteGf7YPk"
      }
    },
    {
      "cell_type": "code",
      "source": [
        "from collections import Counter\n",
        "import numpy as np\n",
        "import matplotlib.pyplot as plt\n",
        "conteo = dict(Counter(words).most_common(5))\n",
        "labels, values = zip(*conteo.items())\n",
        "indSort = np.argsort(values)[::-1]\n",
        "labels = np.array(labels)[indSort]\n",
        "values = np.array(values)[indSort]\n",
        "indexes = np.arange(len(labels))\n",
        "\n",
        "bar_width = 0.1\n",
        "\n",
        "plt.bar(indexes, values)\n",
        "\n",
        "# add labels\n",
        "plt.xticks(indexes + bar_width, labels)\n",
        "plt.show()\n"
      ],
      "metadata": {
        "colab": {
          "base_uri": "https://localhost:8080/",
          "height": 430
        },
        "id": "yzwn0lpG7V7U",
        "outputId": "e0c83a89-e270-483d-b3e7-354b23a8a883"
      },
      "execution_count": null,
      "outputs": [
        {
          "output_type": "display_data",
          "data": {
            "text/plain": [
              "<Figure size 640x480 with 1 Axes>"
            ],
            "image/png": "[encoded data removed]"
          },
          "metadata": {}
        }
      ]
    }
  ]
}