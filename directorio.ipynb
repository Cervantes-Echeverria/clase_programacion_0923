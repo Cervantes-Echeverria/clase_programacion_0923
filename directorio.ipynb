{
  "nbformat": 4,
  "nbformat_minor": 0,
  "metadata": {
    "colab": {
      "provenance": [],
      "authorship_tag": "ABX9TyM6LHnYeigKBmp3g1EHLLhC",
      "include_colab_link": true
    },
    "kernelspec": {
      "name": "python3",
      "display_name": "Python 3"
    },
    "language_info": {
      "name": "python"
    }
  },
  "cells": [
    {
      "cell_type": "markdown",
      "metadata": {
        "id": "view-in-github",
        "colab_type": "text"
      },
      "source": [
        "<a href=\"https://colab.research.google.com/github/Cervantes-Echeverria/clase_programacion_0923/blob/main/directorio.ipynb\" target=\"_parent\"><img src=\"https://colab.research.google.com/assets/colab-badge.svg\" alt=\"Open In Colab\"/></a>"
      ]
    },
    {
      "cell_type": "code",
      "execution_count": 88,
      "metadata": {
        "id": "l-iH9HXP_Nqa"
      },
      "outputs": [],
      "source": [
        "#Crear el directorio 'datos'\n",
        "datos = {\"Neli\":{\"Carrera\":\"Biomedicina\", \"Banda\":\"Imagine Dragons\", \"Cancion\":\"The 128\"},\n",
        "         \"Andrea\":{\"Carrera\":\"Biología\", \"Banda\":\"Latin Mafia\", \"Cancion\":\"S91\"},\n",
        "         \"Pascal\":{\"Carrera\":\"Biomedicina\", \"Banda\":\"CoDependence Day\", \"Cancion\":\"NOXF\"},\n",
        "         \"Xiadani\":{\"Carrera\":\"QFB\", \"Banda\":\"Passenger\", \"Cancion\":\"let her go\"},\n",
        "         \"Melany\":{\"Carrera\":\"Biología\", \"Banda\":\"Daft Punk\", \"Cancion\":\"Something about us\"}}\n"
      ]
    },
    {
      "cell_type": "code",
      "source": [
        "person = input(\"Ingresa el nombre \") #Asigna el valor tecleado a la variable 'person'\n",
        "if person in datos: #Si el valor de 'person' se encuentra en el directorio 'datos' continua\n",
        "  print(f'Los datos de {person} son:') #Imprime\n",
        "  print(f'Carrera: {datos[person][\"Carrera\"]}') #Imprime\n",
        "  print(f'Banda: {datos[person][\"Banda\"]}') #Imprime\n",
        "  print(f'Cancion: {datos[person][\"Cancion\"]}') #Imprime\n",
        "else: #Si el valor de 'person' no se encuentra en el directorio 'datos'\n",
        "  print(f'Nombre no encontrado, intente de nuevo') #Imprime\n"
      ],
      "metadata": {
        "id": "3NcIckiNrXhc"
      },
      "execution_count": null,
      "outputs": []
    }
  ]
}